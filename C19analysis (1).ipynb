{
 "cells": [
  {
   "cell_type": "markdown",
   "metadata": {},
   "source": [
    "# This notebook is a mathematical approach to a local data set for COVID-19 data. \n",
    "I used some visualizations, mathematical growth approaches and linear regression analysis."
   ]
  },
  {
   "cell_type": "markdown",
   "metadata": {},
   "source": [
    "First, I need to import the libraries I am going to use."
   ]
  },
  {
   "cell_type": "code",
   "execution_count": 1,
   "metadata": {},
   "outputs": [],
   "source": [
    "import matplotlib.pyplot as plt\n",
    "from matplotlib import style\n",
    "style.use('ggplot')\n",
    "import pandas as pd\n",
    "import pylab as pl\n",
    "import numpy as np\n",
    "import datetime as dt\n",
    "from sklearn.linear_model import LinearRegression\n",
    "%matplotlib inline"
   ]
  },
  {
   "cell_type": "markdown",
   "metadata": {},
   "source": [
    "Then, I'll import the first data set I'm going to use. This includes local and pennsylvania data supplied by a local health system. The last bit of code will display the data set."
   ]
  },
  {
   "cell_type": "code",
   "execution_count": 3,
   "metadata": {},
   "outputs": [
    {
     "data": {
      "text/html": [
       "<div>\n",
       "<style scoped>\n",
       "    .dataframe tbody tr th:only-of-type {\n",
       "        vertical-align: middle;\n",
       "    }\n",
       "\n",
       "    .dataframe tbody tr th {\n",
       "        vertical-align: top;\n",
       "    }\n",
       "\n",
       "    .dataframe thead th {\n",
       "        text-align: right;\n",
       "    }\n",
       "</style>\n",
       "<table border=\"1\" class=\"dataframe\">\n",
       "  <thead>\n",
       "    <tr style=\"text-align: right;\">\n",
       "      <th></th>\n",
       "      <th>Date</th>\n",
       "      <th>Testd_ordered</th>\n",
       "      <th>Positive</th>\n",
       "      <th>Negative</th>\n",
       "      <th>total_positive</th>\n",
       "      <th>total_negative</th>\n",
       "      <th>PA_total_Negative</th>\n",
       "      <th>PA_total_Positive</th>\n",
       "      <th>PA_new_tests</th>\n",
       "      <th>PA_New_positives</th>\n",
       "    </tr>\n",
       "  </thead>\n",
       "  <tbody>\n",
       "    <tr>\n",
       "      <td>0</td>\n",
       "      <td>0</td>\n",
       "      <td>1</td>\n",
       "      <td>0</td>\n",
       "      <td>1</td>\n",
       "      <td>0</td>\n",
       "      <td>1</td>\n",
       "      <td>0</td>\n",
       "      <td>2</td>\n",
       "      <td>0</td>\n",
       "      <td>2</td>\n",
       "    </tr>\n",
       "    <tr>\n",
       "      <td>1</td>\n",
       "      <td>1</td>\n",
       "      <td>1</td>\n",
       "      <td>0</td>\n",
       "      <td>1</td>\n",
       "      <td>0</td>\n",
       "      <td>2</td>\n",
       "      <td>0</td>\n",
       "      <td>4</td>\n",
       "      <td>2</td>\n",
       "      <td>2</td>\n",
       "    </tr>\n",
       "    <tr>\n",
       "      <td>2</td>\n",
       "      <td>2</td>\n",
       "      <td>0</td>\n",
       "      <td>0</td>\n",
       "      <td>0</td>\n",
       "      <td>0</td>\n",
       "      <td>2</td>\n",
       "      <td>0</td>\n",
       "      <td>6</td>\n",
       "      <td>2</td>\n",
       "      <td>2</td>\n",
       "    </tr>\n",
       "    <tr>\n",
       "      <td>3</td>\n",
       "      <td>3</td>\n",
       "      <td>0</td>\n",
       "      <td>0</td>\n",
       "      <td>0</td>\n",
       "      <td>0</td>\n",
       "      <td>2</td>\n",
       "      <td>0</td>\n",
       "      <td>10</td>\n",
       "      <td>4</td>\n",
       "      <td>4</td>\n",
       "    </tr>\n",
       "    <tr>\n",
       "      <td>4</td>\n",
       "      <td>4</td>\n",
       "      <td>0</td>\n",
       "      <td>0</td>\n",
       "      <td>0</td>\n",
       "      <td>0</td>\n",
       "      <td>2</td>\n",
       "      <td>0</td>\n",
       "      <td>12</td>\n",
       "      <td>2</td>\n",
       "      <td>2</td>\n",
       "    </tr>\n",
       "    <tr>\n",
       "      <td>5</td>\n",
       "      <td>5</td>\n",
       "      <td>3</td>\n",
       "      <td>0</td>\n",
       "      <td>3</td>\n",
       "      <td>0</td>\n",
       "      <td>5</td>\n",
       "      <td>88</td>\n",
       "      <td>16</td>\n",
       "      <td>92</td>\n",
       "      <td>4</td>\n",
       "    </tr>\n",
       "    <tr>\n",
       "      <td>6</td>\n",
       "      <td>6</td>\n",
       "      <td>5</td>\n",
       "      <td>0</td>\n",
       "      <td>5</td>\n",
       "      <td>0</td>\n",
       "      <td>10</td>\n",
       "      <td>116</td>\n",
       "      <td>22</td>\n",
       "      <td>34</td>\n",
       "      <td>6</td>\n",
       "    </tr>\n",
       "    <tr>\n",
       "      <td>7</td>\n",
       "      <td>7</td>\n",
       "      <td>0</td>\n",
       "      <td>0</td>\n",
       "      <td>0</td>\n",
       "      <td>0</td>\n",
       "      <td>10</td>\n",
       "      <td>140</td>\n",
       "      <td>41</td>\n",
       "      <td>43</td>\n",
       "      <td>19</td>\n",
       "    </tr>\n",
       "    <tr>\n",
       "      <td>8</td>\n",
       "      <td>8</td>\n",
       "      <td>5</td>\n",
       "      <td>1</td>\n",
       "      <td>4</td>\n",
       "      <td>1</td>\n",
       "      <td>14</td>\n",
       "      <td>205</td>\n",
       "      <td>47</td>\n",
       "      <td>71</td>\n",
       "      <td>6</td>\n",
       "    </tr>\n",
       "    <tr>\n",
       "      <td>9</td>\n",
       "      <td>9</td>\n",
       "      <td>2</td>\n",
       "      <td>1</td>\n",
       "      <td>1</td>\n",
       "      <td>2</td>\n",
       "      <td>15</td>\n",
       "      <td>205</td>\n",
       "      <td>63</td>\n",
       "      <td>16</td>\n",
       "      <td>16</td>\n",
       "    </tr>\n",
       "    <tr>\n",
       "      <td>10</td>\n",
       "      <td>10</td>\n",
       "      <td>7</td>\n",
       "      <td>2</td>\n",
       "      <td>5</td>\n",
       "      <td>4</td>\n",
       "      <td>20</td>\n",
       "      <td>670</td>\n",
       "      <td>76</td>\n",
       "      <td>478</td>\n",
       "      <td>13</td>\n",
       "    </tr>\n",
       "    <tr>\n",
       "      <td>11</td>\n",
       "      <td>11</td>\n",
       "      <td>14</td>\n",
       "      <td>0</td>\n",
       "      <td>14</td>\n",
       "      <td>4</td>\n",
       "      <td>34</td>\n",
       "      <td>879</td>\n",
       "      <td>96</td>\n",
       "      <td>229</td>\n",
       "      <td>20</td>\n",
       "    </tr>\n",
       "    <tr>\n",
       "      <td>12</td>\n",
       "      <td>12</td>\n",
       "      <td>135</td>\n",
       "      <td>11</td>\n",
       "      <td>123</td>\n",
       "      <td>15</td>\n",
       "      <td>157</td>\n",
       "      <td>1187</td>\n",
       "      <td>133</td>\n",
       "      <td>345</td>\n",
       "      <td>37</td>\n",
       "    </tr>\n",
       "    <tr>\n",
       "      <td>13</td>\n",
       "      <td>13</td>\n",
       "      <td>96</td>\n",
       "      <td>7</td>\n",
       "      <td>66</td>\n",
       "      <td>22</td>\n",
       "      <td>223</td>\n",
       "      <td>1608</td>\n",
       "      <td>185</td>\n",
       "      <td>473</td>\n",
       "      <td>52</td>\n",
       "    </tr>\n",
       "    <tr>\n",
       "      <td>14</td>\n",
       "      <td>14</td>\n",
       "      <td>321</td>\n",
       "      <td>22</td>\n",
       "      <td>299</td>\n",
       "      <td>44</td>\n",
       "      <td>522</td>\n",
       "      <td>2574</td>\n",
       "      <td>268</td>\n",
       "      <td>1049</td>\n",
       "      <td>83</td>\n",
       "    </tr>\n",
       "    <tr>\n",
       "      <td>15</td>\n",
       "      <td>15</td>\n",
       "      <td>209</td>\n",
       "      <td>10</td>\n",
       "      <td>198</td>\n",
       "      <td>54</td>\n",
       "      <td>720</td>\n",
       "      <td>3766</td>\n",
       "      <td>371</td>\n",
       "      <td>1295</td>\n",
       "      <td>103</td>\n",
       "    </tr>\n",
       "    <tr>\n",
       "      <td>16</td>\n",
       "      <td>16</td>\n",
       "      <td>223</td>\n",
       "      <td>17</td>\n",
       "      <td>206</td>\n",
       "      <td>71</td>\n",
       "      <td>926</td>\n",
       "      <td>4964</td>\n",
       "      <td>479</td>\n",
       "      <td>1306</td>\n",
       "      <td>108</td>\n",
       "    </tr>\n",
       "    <tr>\n",
       "      <td>17</td>\n",
       "      <td>17</td>\n",
       "      <td>294</td>\n",
       "      <td>14</td>\n",
       "      <td>278</td>\n",
       "      <td>85</td>\n",
       "      <td>1204</td>\n",
       "      <td>6595</td>\n",
       "      <td>644</td>\n",
       "      <td>1796</td>\n",
       "      <td>165</td>\n",
       "    </tr>\n",
       "    <tr>\n",
       "      <td>18</td>\n",
       "      <td>18</td>\n",
       "      <td>317</td>\n",
       "      <td>25</td>\n",
       "      <td>285</td>\n",
       "      <td>110</td>\n",
       "      <td>1489</td>\n",
       "      <td>8643</td>\n",
       "      <td>851</td>\n",
       "      <td>2255</td>\n",
       "      <td>207</td>\n",
       "    </tr>\n",
       "    <tr>\n",
       "      <td>19</td>\n",
       "      <td>19</td>\n",
       "      <td>395</td>\n",
       "      <td>19</td>\n",
       "      <td>212</td>\n",
       "      <td>129</td>\n",
       "      <td>1701</td>\n",
       "      <td>11193</td>\n",
       "      <td>1127</td>\n",
       "      <td>2826</td>\n",
       "      <td>276</td>\n",
       "    </tr>\n",
       "    <tr>\n",
       "      <td>20</td>\n",
       "      <td>20</td>\n",
       "      <td>445</td>\n",
       "      <td>21</td>\n",
       "      <td>159</td>\n",
       "      <td>150</td>\n",
       "      <td>1860</td>\n",
       "      <td>16441</td>\n",
       "      <td>1687</td>\n",
       "      <td>5808</td>\n",
       "      <td>560</td>\n",
       "    </tr>\n",
       "    <tr>\n",
       "      <td>21</td>\n",
       "      <td>21</td>\n",
       "      <td>377</td>\n",
       "      <td>7</td>\n",
       "      <td>118</td>\n",
       "      <td>157</td>\n",
       "      <td>1978</td>\n",
       "      <td>21016</td>\n",
       "      <td>2218</td>\n",
       "      <td>5106</td>\n",
       "      <td>531</td>\n",
       "    </tr>\n",
       "    <tr>\n",
       "      <td>22</td>\n",
       "      <td>22</td>\n",
       "      <td>312</td>\n",
       "      <td>15</td>\n",
       "      <td>97</td>\n",
       "      <td>172</td>\n",
       "      <td>2075</td>\n",
       "      <td>25254</td>\n",
       "      <td>2751</td>\n",
       "      <td>4771</td>\n",
       "      <td>533</td>\n",
       "    </tr>\n",
       "    <tr>\n",
       "      <td>23</td>\n",
       "      <td>23</td>\n",
       "      <td>281</td>\n",
       "      <td>10</td>\n",
       "      <td>90</td>\n",
       "      <td>182</td>\n",
       "      <td>2165</td>\n",
       "      <td>30061</td>\n",
       "      <td>3394</td>\n",
       "      <td>5450</td>\n",
       "      <td>643</td>\n",
       "    </tr>\n",
       "    <tr>\n",
       "      <td>24</td>\n",
       "      <td>24</td>\n",
       "      <td>495</td>\n",
       "      <td>19</td>\n",
       "      <td>149</td>\n",
       "      <td>201</td>\n",
       "      <td>2314</td>\n",
       "      <td>33777</td>\n",
       "      <td>4087</td>\n",
       "      <td>4409</td>\n",
       "      <td>693</td>\n",
       "    </tr>\n",
       "    <tr>\n",
       "      <td>25</td>\n",
       "      <td>25</td>\n",
       "      <td>438</td>\n",
       "      <td>16</td>\n",
       "      <td>79</td>\n",
       "      <td>217</td>\n",
       "      <td>2393</td>\n",
       "      <td>37645</td>\n",
       "      <td>4843</td>\n",
       "      <td>4624</td>\n",
       "      <td>756</td>\n",
       "    </tr>\n",
       "    <tr>\n",
       "      <td>26</td>\n",
       "      <td>26</td>\n",
       "      <td>449</td>\n",
       "      <td>59</td>\n",
       "      <td>390</td>\n",
       "      <td>276</td>\n",
       "      <td>2783</td>\n",
       "      <td>42427</td>\n",
       "      <td>5805</td>\n",
       "      <td>5744</td>\n",
       "      <td>962</td>\n",
       "    </tr>\n",
       "    <tr>\n",
       "      <td>27</td>\n",
       "      <td>27</td>\n",
       "      <td>440</td>\n",
       "      <td>62</td>\n",
       "      <td>377</td>\n",
       "      <td>338</td>\n",
       "      <td>3160</td>\n",
       "      <td>47698</td>\n",
       "      <td>7016</td>\n",
       "      <td>6482</td>\n",
       "      <td>1211</td>\n",
       "    </tr>\n",
       "    <tr>\n",
       "      <td>28</td>\n",
       "      <td>28</td>\n",
       "      <td>455</td>\n",
       "      <td>57</td>\n",
       "      <td>398</td>\n",
       "      <td>395</td>\n",
       "      <td>3558</td>\n",
       "      <td>53695</td>\n",
       "      <td>8420</td>\n",
       "      <td>7401</td>\n",
       "      <td>1404</td>\n",
       "    </tr>\n",
       "    <tr>\n",
       "      <td>29</td>\n",
       "      <td>29</td>\n",
       "      <td>337</td>\n",
       "      <td>50</td>\n",
       "      <td>284</td>\n",
       "      <td>445</td>\n",
       "      <td>3842</td>\n",
       "      <td>60013</td>\n",
       "      <td>10017</td>\n",
       "      <td>7915</td>\n",
       "      <td>1597</td>\n",
       "    </tr>\n",
       "    <tr>\n",
       "      <td>30</td>\n",
       "      <td>30</td>\n",
       "      <td>313</td>\n",
       "      <td>66</td>\n",
       "      <td>247</td>\n",
       "      <td>511</td>\n",
       "      <td>4089</td>\n",
       "      <td>66261</td>\n",
       "      <td>11510</td>\n",
       "      <td>7741</td>\n",
       "      <td>1493</td>\n",
       "    </tr>\n",
       "    <tr>\n",
       "      <td>31</td>\n",
       "      <td>31</td>\n",
       "      <td>452</td>\n",
       "      <td>89</td>\n",
       "      <td>362</td>\n",
       "      <td>600</td>\n",
       "      <td>4451</td>\n",
       "      <td>70874</td>\n",
       "      <td>12980</td>\n",
       "      <td>6083</td>\n",
       "      <td>1470</td>\n",
       "    </tr>\n",
       "    <tr>\n",
       "      <td>32</td>\n",
       "      <td>32</td>\n",
       "      <td>424</td>\n",
       "      <td>82</td>\n",
       "      <td>342</td>\n",
       "      <td>682</td>\n",
       "      <td>4793</td>\n",
       "      <td>76719</td>\n",
       "      <td>14559</td>\n",
       "      <td>7424</td>\n",
       "      <td>1579</td>\n",
       "    </tr>\n",
       "    <tr>\n",
       "      <td>33</td>\n",
       "      <td>33</td>\n",
       "      <td>404</td>\n",
       "      <td>88</td>\n",
       "      <td>316</td>\n",
       "      <td>770</td>\n",
       "      <td>5109</td>\n",
       "      <td>82299</td>\n",
       "      <td>16239</td>\n",
       "      <td>7260</td>\n",
       "      <td>1680</td>\n",
       "    </tr>\n",
       "    <tr>\n",
       "      <td>34</td>\n",
       "      <td>34</td>\n",
       "      <td>408</td>\n",
       "      <td>75</td>\n",
       "      <td>333</td>\n",
       "      <td>845</td>\n",
       "      <td>5442</td>\n",
       "      <td>87374</td>\n",
       "      <td>18228</td>\n",
       "      <td>7064</td>\n",
       "      <td>1989</td>\n",
       "    </tr>\n",
       "    <tr>\n",
       "      <td>35</td>\n",
       "      <td>35</td>\n",
       "      <td>437</td>\n",
       "      <td>111</td>\n",
       "      <td>325</td>\n",
       "      <td>956</td>\n",
       "      <td>5767</td>\n",
       "      <td>93040</td>\n",
       "      <td>19979</td>\n",
       "      <td>7417</td>\n",
       "      <td>1751</td>\n",
       "    </tr>\n",
       "    <tr>\n",
       "      <td>36</td>\n",
       "      <td>36</td>\n",
       "      <td>265</td>\n",
       "      <td>70</td>\n",
       "      <td>195</td>\n",
       "      <td>1026</td>\n",
       "      <td>5962</td>\n",
       "      <td>98498</td>\n",
       "      <td>21655</td>\n",
       "      <td>7134</td>\n",
       "      <td>1676</td>\n",
       "    </tr>\n",
       "    <tr>\n",
       "      <td>37</td>\n",
       "      <td>37</td>\n",
       "      <td>164</td>\n",
       "      <td>41</td>\n",
       "      <td>123</td>\n",
       "      <td>1067</td>\n",
       "      <td>6085</td>\n",
       "      <td>102057</td>\n",
       "      <td>22833</td>\n",
       "      <td>4737</td>\n",
       "      <td>1178</td>\n",
       "    </tr>\n",
       "    <tr>\n",
       "      <td>38</td>\n",
       "      <td>38</td>\n",
       "      <td>449</td>\n",
       "      <td>101</td>\n",
       "      <td>347</td>\n",
       "      <td>1168</td>\n",
       "      <td>6432</td>\n",
       "      <td>105593</td>\n",
       "      <td>24199</td>\n",
       "      <td>4902</td>\n",
       "      <td>1366</td>\n",
       "    </tr>\n",
       "    <tr>\n",
       "      <td>39</td>\n",
       "      <td>39</td>\n",
       "      <td>359</td>\n",
       "      <td>70</td>\n",
       "      <td>288</td>\n",
       "      <td>1238</td>\n",
       "      <td>6720</td>\n",
       "      <td>108286</td>\n",
       "      <td>25345</td>\n",
       "      <td>3839</td>\n",
       "      <td>1146</td>\n",
       "    </tr>\n",
       "    <tr>\n",
       "      <td>40</td>\n",
       "      <td>40</td>\n",
       "      <td>398</td>\n",
       "      <td>78</td>\n",
       "      <td>320</td>\n",
       "      <td>1316</td>\n",
       "      <td>7040</td>\n",
       "      <td>111094</td>\n",
       "      <td>26490</td>\n",
       "      <td>3953</td>\n",
       "      <td>1145</td>\n",
       "    </tr>\n",
       "    <tr>\n",
       "      <td>41</td>\n",
       "      <td>41</td>\n",
       "      <td>327</td>\n",
       "      <td>47</td>\n",
       "      <td>280</td>\n",
       "      <td>1363</td>\n",
       "      <td>7320</td>\n",
       "      <td>113735</td>\n",
       "      <td>27735</td>\n",
       "      <td>3886</td>\n",
       "      <td>1245</td>\n",
       "    </tr>\n",
       "    <tr>\n",
       "      <td>42</td>\n",
       "      <td>42</td>\n",
       "      <td>322</td>\n",
       "      <td>56</td>\n",
       "      <td>266</td>\n",
       "      <td>1419</td>\n",
       "      <td>7586</td>\n",
       "      <td>117932</td>\n",
       "      <td>29441</td>\n",
       "      <td>5903</td>\n",
       "      <td>1706</td>\n",
       "    </tr>\n",
       "    <tr>\n",
       "      <td>43</td>\n",
       "      <td>43</td>\n",
       "      <td>134</td>\n",
       "      <td>20</td>\n",
       "      <td>114</td>\n",
       "      <td>1439</td>\n",
       "      <td>7700</td>\n",
       "      <td>122896</td>\n",
       "      <td>31069</td>\n",
       "      <td>6592</td>\n",
       "      <td>1628</td>\n",
       "    </tr>\n",
       "  </tbody>\n",
       "</table>\n",
       "</div>"
      ],
      "text/plain": [
       "    Date  Testd_ordered  Positive  Negative  total_positive  total_negative  \\\n",
       "0      0              1         0         1               0               1   \n",
       "1      1              1         0         1               0               2   \n",
       "2      2              0         0         0               0               2   \n",
       "3      3              0         0         0               0               2   \n",
       "4      4              0         0         0               0               2   \n",
       "5      5              3         0         3               0               5   \n",
       "6      6              5         0         5               0              10   \n",
       "7      7              0         0         0               0              10   \n",
       "8      8              5         1         4               1              14   \n",
       "9      9              2         1         1               2              15   \n",
       "10    10              7         2         5               4              20   \n",
       "11    11             14         0        14               4              34   \n",
       "12    12            135        11       123              15             157   \n",
       "13    13             96         7        66              22             223   \n",
       "14    14            321        22       299              44             522   \n",
       "15    15            209        10       198              54             720   \n",
       "16    16            223        17       206              71             926   \n",
       "17    17            294        14       278              85            1204   \n",
       "18    18            317        25       285             110            1489   \n",
       "19    19            395        19       212             129            1701   \n",
       "20    20            445        21       159             150            1860   \n",
       "21    21            377         7       118             157            1978   \n",
       "22    22            312        15        97             172            2075   \n",
       "23    23            281        10        90             182            2165   \n",
       "24    24            495        19       149             201            2314   \n",
       "25    25            438        16        79             217            2393   \n",
       "26    26            449        59       390             276            2783   \n",
       "27    27            440        62       377             338            3160   \n",
       "28    28            455        57       398             395            3558   \n",
       "29    29            337        50       284             445            3842   \n",
       "30    30            313        66       247             511            4089   \n",
       "31    31            452        89       362             600            4451   \n",
       "32    32            424        82       342             682            4793   \n",
       "33    33            404        88       316             770            5109   \n",
       "34    34            408        75       333             845            5442   \n",
       "35    35            437       111       325             956            5767   \n",
       "36    36            265        70       195            1026            5962   \n",
       "37    37            164        41       123            1067            6085   \n",
       "38    38            449       101       347            1168            6432   \n",
       "39    39            359        70       288            1238            6720   \n",
       "40    40            398        78       320            1316            7040   \n",
       "41    41            327        47       280            1363            7320   \n",
       "42    42            322        56       266            1419            7586   \n",
       "43    43            134        20       114            1439            7700   \n",
       "\n",
       "    PA_total_Negative  PA_total_Positive  PA_new_tests  PA_New_positives  \n",
       "0                   0                  2             0                 2  \n",
       "1                   0                  4             2                 2  \n",
       "2                   0                  6             2                 2  \n",
       "3                   0                 10             4                 4  \n",
       "4                   0                 12             2                 2  \n",
       "5                  88                 16            92                 4  \n",
       "6                 116                 22            34                 6  \n",
       "7                 140                 41            43                19  \n",
       "8                 205                 47            71                 6  \n",
       "9                 205                 63            16                16  \n",
       "10                670                 76           478                13  \n",
       "11                879                 96           229                20  \n",
       "12               1187                133           345                37  \n",
       "13               1608                185           473                52  \n",
       "14               2574                268          1049                83  \n",
       "15               3766                371          1295               103  \n",
       "16               4964                479          1306               108  \n",
       "17               6595                644          1796               165  \n",
       "18               8643                851          2255               207  \n",
       "19              11193               1127          2826               276  \n",
       "20              16441               1687          5808               560  \n",
       "21              21016               2218          5106               531  \n",
       "22              25254               2751          4771               533  \n",
       "23              30061               3394          5450               643  \n",
       "24              33777               4087          4409               693  \n",
       "25              37645               4843          4624               756  \n",
       "26              42427               5805          5744               962  \n",
       "27              47698               7016          6482              1211  \n",
       "28              53695               8420          7401              1404  \n",
       "29              60013              10017          7915              1597  \n",
       "30              66261              11510          7741              1493  \n",
       "31              70874              12980          6083              1470  \n",
       "32              76719              14559          7424              1579  \n",
       "33              82299              16239          7260              1680  \n",
       "34              87374              18228          7064              1989  \n",
       "35              93040              19979          7417              1751  \n",
       "36              98498              21655          7134              1676  \n",
       "37             102057              22833          4737              1178  \n",
       "38             105593              24199          4902              1366  \n",
       "39             108286              25345          3839              1146  \n",
       "40             111094              26490          3953              1145  \n",
       "41             113735              27735          3886              1245  \n",
       "42             117932              29441          5903              1706  \n",
       "43             122896              31069          6592              1628  "
      ]
     },
     "execution_count": 3,
     "metadata": {},
     "output_type": "execute_result"
    }
   ],
   "source": [
    "# import file\n",
    "file_name = '/Users/juliettegudknecht/Downloads/c19cases.csv'\n",
    "\n",
    "df_raw = pd.read_csv(file_name)\n",
    "df_raw"
   ]
  },
  {
   "cell_type": "markdown",
   "metadata": {},
   "source": [
    "Next, I ran a statistical analysis. "
   ]
  },
  {
   "cell_type": "code",
   "execution_count": 4,
   "metadata": {},
   "outputs": [
    {
     "data": {
      "text/html": [
       "<div>\n",
       "<style scoped>\n",
       "    .dataframe tbody tr th:only-of-type {\n",
       "        vertical-align: middle;\n",
       "    }\n",
       "\n",
       "    .dataframe tbody tr th {\n",
       "        vertical-align: top;\n",
       "    }\n",
       "\n",
       "    .dataframe thead th {\n",
       "        text-align: right;\n",
       "    }\n",
       "</style>\n",
       "<table border=\"1\" class=\"dataframe\">\n",
       "  <thead>\n",
       "    <tr style=\"text-align: right;\">\n",
       "      <th></th>\n",
       "      <th>Date</th>\n",
       "      <th>Testd_ordered</th>\n",
       "      <th>Positive</th>\n",
       "      <th>Negative</th>\n",
       "      <th>total_positive</th>\n",
       "      <th>total_negative</th>\n",
       "      <th>PA_total_Negative</th>\n",
       "      <th>PA_total_Positive</th>\n",
       "      <th>PA_new_tests</th>\n",
       "      <th>PA_New_positives</th>\n",
       "    </tr>\n",
       "  </thead>\n",
       "  <tbody>\n",
       "    <tr>\n",
       "      <td>count</td>\n",
       "      <td>44.000000</td>\n",
       "      <td>44.000000</td>\n",
       "      <td>44.000000</td>\n",
       "      <td>44.000000</td>\n",
       "      <td>44.000000</td>\n",
       "      <td>44.000000</td>\n",
       "      <td>44.000000</td>\n",
       "      <td>44.000000</td>\n",
       "      <td>44.000000</td>\n",
       "      <td>44.000000</td>\n",
       "    </tr>\n",
       "    <tr>\n",
       "      <td>mean</td>\n",
       "      <td>21.500000</td>\n",
       "      <td>248.022727</td>\n",
       "      <td>32.704545</td>\n",
       "      <td>175.000000</td>\n",
       "      <td>397.136364</td>\n",
       "      <td>2674.613636</td>\n",
       "      <td>40170.863636</td>\n",
       "      <td>8112.568182</td>\n",
       "      <td>3499.159091</td>\n",
       "      <td>706.113636</td>\n",
       "    </tr>\n",
       "    <tr>\n",
       "      <td>std</td>\n",
       "      <td>12.845233</td>\n",
       "      <td>176.982260</td>\n",
       "      <td>33.367983</td>\n",
       "      <td>137.387925</td>\n",
       "      <td>480.259309</td>\n",
       "      <td>2613.419432</td>\n",
       "      <td>43216.118658</td>\n",
       "      <td>10181.595090</td>\n",
       "      <td>2889.395462</td>\n",
       "      <td>682.446598</td>\n",
       "    </tr>\n",
       "    <tr>\n",
       "      <td>min</td>\n",
       "      <td>0.000000</td>\n",
       "      <td>0.000000</td>\n",
       "      <td>0.000000</td>\n",
       "      <td>0.000000</td>\n",
       "      <td>0.000000</td>\n",
       "      <td>1.000000</td>\n",
       "      <td>0.000000</td>\n",
       "      <td>2.000000</td>\n",
       "      <td>0.000000</td>\n",
       "      <td>2.000000</td>\n",
       "    </tr>\n",
       "    <tr>\n",
       "      <td>25%</td>\n",
       "      <td>10.750000</td>\n",
       "      <td>12.250000</td>\n",
       "      <td>1.750000</td>\n",
       "      <td>11.750000</td>\n",
       "      <td>4.000000</td>\n",
       "      <td>30.500000</td>\n",
       "      <td>826.750000</td>\n",
       "      <td>91.000000</td>\n",
       "      <td>316.000000</td>\n",
       "      <td>19.750000</td>\n",
       "    </tr>\n",
       "    <tr>\n",
       "      <td>50%</td>\n",
       "      <td>21.500000</td>\n",
       "      <td>312.500000</td>\n",
       "      <td>19.000000</td>\n",
       "      <td>177.000000</td>\n",
       "      <td>164.500000</td>\n",
       "      <td>2026.500000</td>\n",
       "      <td>23135.000000</td>\n",
       "      <td>2484.500000</td>\n",
       "      <td>3919.500000</td>\n",
       "      <td>546.500000</td>\n",
       "    </tr>\n",
       "    <tr>\n",
       "      <td>75%</td>\n",
       "      <td>32.250000</td>\n",
       "      <td>405.000000</td>\n",
       "      <td>59.750000</td>\n",
       "      <td>290.750000</td>\n",
       "      <td>704.000000</td>\n",
       "      <td>4872.000000</td>\n",
       "      <td>78114.000000</td>\n",
       "      <td>14979.000000</td>\n",
       "      <td>5948.000000</td>\n",
       "      <td>1375.500000</td>\n",
       "    </tr>\n",
       "    <tr>\n",
       "      <td>max</td>\n",
       "      <td>43.000000</td>\n",
       "      <td>495.000000</td>\n",
       "      <td>111.000000</td>\n",
       "      <td>398.000000</td>\n",
       "      <td>1439.000000</td>\n",
       "      <td>7700.000000</td>\n",
       "      <td>122896.000000</td>\n",
       "      <td>31069.000000</td>\n",
       "      <td>7915.000000</td>\n",
       "      <td>1989.000000</td>\n",
       "    </tr>\n",
       "  </tbody>\n",
       "</table>\n",
       "</div>"
      ],
      "text/plain": [
       "            Date  Testd_ordered    Positive    Negative  total_positive  \\\n",
       "count  44.000000      44.000000   44.000000   44.000000       44.000000   \n",
       "mean   21.500000     248.022727   32.704545  175.000000      397.136364   \n",
       "std    12.845233     176.982260   33.367983  137.387925      480.259309   \n",
       "min     0.000000       0.000000    0.000000    0.000000        0.000000   \n",
       "25%    10.750000      12.250000    1.750000   11.750000        4.000000   \n",
       "50%    21.500000     312.500000   19.000000  177.000000      164.500000   \n",
       "75%    32.250000     405.000000   59.750000  290.750000      704.000000   \n",
       "max    43.000000     495.000000  111.000000  398.000000     1439.000000   \n",
       "\n",
       "       total_negative  PA_total_Negative  PA_total_Positive  PA_new_tests  \\\n",
       "count       44.000000          44.000000          44.000000     44.000000   \n",
       "mean      2674.613636       40170.863636        8112.568182   3499.159091   \n",
       "std       2613.419432       43216.118658       10181.595090   2889.395462   \n",
       "min          1.000000           0.000000           2.000000      0.000000   \n",
       "25%         30.500000         826.750000          91.000000    316.000000   \n",
       "50%       2026.500000       23135.000000        2484.500000   3919.500000   \n",
       "75%       4872.000000       78114.000000       14979.000000   5948.000000   \n",
       "max       7700.000000      122896.000000       31069.000000   7915.000000   \n",
       "\n",
       "       PA_New_positives  \n",
       "count         44.000000  \n",
       "mean         706.113636  \n",
       "std          682.446598  \n",
       "min            2.000000  \n",
       "25%           19.750000  \n",
       "50%          546.500000  \n",
       "75%         1375.500000  \n",
       "max         1989.000000  "
      ]
     },
     "execution_count": 4,
     "metadata": {},
     "output_type": "execute_result"
    }
   ],
   "source": [
    "df_raw.describe()"
   ]
  },
  {
   "cell_type": "markdown",
   "metadata": {},
   "source": [
    "Now I am simply creating a new data frame with less values, so there is less clutter.  \n",
    "These values include the Dates and total positive cases as a running total."
   ]
  },
  {
   "cell_type": "code",
   "execution_count": 42,
   "metadata": {},
   "outputs": [],
   "source": [
    "df = df[['Date','total_positive', 'PA_total_Positive']]"
   ]
  },
  {
   "cell_type": "markdown",
   "metadata": {},
   "source": [
    "First I am running a scatterplot to see the relationship."
   ]
  },
  {
   "cell_type": "code",
   "execution_count": 9,
   "metadata": {},
   "outputs": [
    {
     "data": {
      "image/png": "[encoded data removed]",
      "text/plain": [
       "<Figure size 432x288 with 1 Axes>"
      ]
     },
     "metadata": {
      "needs_background": "light"
     },
     "output_type": "display_data"
    }
   ],
   "source": [
    "plt.scatter(df.Date[8:], df.total_positive[8:],  color='blue')\n",
    "plt.xlabel(\"Dates\")\n",
    "plt.ylabel(\"Local Positive Cases\")\n",
    "plt.show()"
   ]
  },
  {
   "cell_type": "code",
   "execution_count": 10,
   "metadata": {},
   "outputs": [
    {
     "data": {
      "image/png": "[encoded data removed]",
      "text/plain": [
       "<Figure size 432x288 with 1 Axes>"
      ]
     },
     "metadata": {
      "needs_background": "light"
     },
     "output_type": "display_data"
    }
   ],
   "source": [
    "plt.scatter(df.Date, df.PA_total_Positive,  color='blue')\n",
    "plt.xlabel(\"Dates\")\n",
    "plt.ylabel(\"PA Positive Cases\")\n",
    "plt.show()"
   ]
  },
  {
   "cell_type": "markdown",
   "metadata": {},
   "source": [
    "The plots seem to be exponential. If the plots truly are exponential, then when plotted with a log scale of dates, the graphs should be linear. Lets check..."
   ]
  },
  {
   "cell_type": "code",
   "execution_count": 12,
   "metadata": {},
   "outputs": [
    {
     "data": {
      "image/png": "[encoded data removed]",
      "text/plain": [
       "<Figure size 432x288 with 1 Axes>"
      ]
     },
     "metadata": {
      "needs_background": "light"
     },
     "output_type": "display_data"
    },
    {
     "data": {
      "image/png": "[encoded data removed]",
      "text/plain": [
       "<Figure size 432x288 with 1 Axes>"
      ]
     },
     "metadata": {
      "needs_background": "light"
     },
     "output_type": "display_data"
    }
   ],
   "source": [
    "plt.scatter(df.Date, df.total_positive,  color='blue')\n",
    "plt.xlabel(\"Dates\")\n",
    "plt.ylabel(\"Local Positive Cases\")\n",
    "plt.yscale('log')\n",
    "plt.show()\n",
    "\n",
    "plt.scatter(df.Date, df.PA_total_Positive,  color='blue')\n",
    "plt.xlabel(\"Dates\")\n",
    "plt.ylabel(\"PA Positive Cases\")\n",
    "plt.yscale('log')\n",
    "plt.show()"
   ]
  },
  {
   "cell_type": "markdown",
   "metadata": {},
   "source": [
    "Something weird happened here, the first graph is missing data from 10^1 to 10^3. The reason behind this can be found if we look at the data set. "
   ]
  },
  {
   "cell_type": "code",
   "execution_count": 13,
   "metadata": {},
   "outputs": [
    {
     "data": {
      "text/plain": [
       "0        0\n",
       "1        0\n",
       "2        0\n",
       "3        0\n",
       "4        0\n",
       "5        0\n",
       "6        0\n",
       "7        0\n",
       "8        1\n",
       "9        2\n",
       "10       4\n",
       "11       4\n",
       "12      15\n",
       "13      22\n",
       "14      44\n",
       "15      54\n",
       "16      71\n",
       "17      85\n",
       "18     110\n",
       "19     129\n",
       "20     150\n",
       "21     157\n",
       "22     172\n",
       "23     182\n",
       "24     201\n",
       "25     217\n",
       "26     276\n",
       "27     338\n",
       "28     395\n",
       "29     445\n",
       "30     511\n",
       "31     600\n",
       "32     682\n",
       "33     770\n",
       "34     845\n",
       "35     956\n",
       "36    1026\n",
       "37    1067\n",
       "38    1168\n",
       "39    1238\n",
       "40    1316\n",
       "41    1363\n",
       "42    1419\n",
       "43    1439\n",
       "Name: total_positive, dtype: int64"
      ]
     },
     "execution_count": 13,
     "metadata": {},
     "output_type": "execute_result"
    }
   ],
   "source": [
    "df.total_positive"
   ]
  },
  {
   "cell_type": "markdown",
   "metadata": {},
   "source": [
    "The first 7 entries are zero. When the log[0] is taken, it's undefined. Thus causing the graph to not show. This is a simple fix, just take the values starting from the 8th value. This shouldn't matter, considering there were no cases."
   ]
  },
  {
   "cell_type": "code",
   "execution_count": 25,
   "metadata": {},
   "outputs": [
    {
     "data": {
      "image/png": "[encoded data removed]",
      "text/plain": [
       "<Figure size 432x288 with 1 Axes>"
      ]
     },
     "metadata": {
      "needs_background": "light"
     },
     "output_type": "display_data"
    },
    {
     "data": {
      "image/png": "[encoded data removed]",
      "text/plain": [
       "<Figure size 432x288 with 1 Axes>"
      ]
     },
     "metadata": {
      "needs_background": "light"
     },
     "output_type": "display_data"
    }
   ],
   "source": [
    "plt.scatter(df.Date[8:], df.total_positive[8:],  color='blue')\n",
    "plt.xlabel(\"Dates\")\n",
    "plt.ylabel(\"Local Positive Cases\")\n",
    "plt.yscale('log')\n",
    "plt.show()\n",
    "\n",
    "plt.scatter(df.Date, df.PA_total_Positive,  color='blue')\n",
    "plt.xlabel(\"Dates\")\n",
    "plt.ylabel(\"PA Positive Cases\")\n",
    "plt.yscale('log')\n",
    "plt.show()"
   ]
  },
  {
   "cell_type": "markdown",
   "metadata": {},
   "source": [
    "Now we see that the graph is pretty much linear. Note that it is very hard for the data to be perfect in this situation. Its not like we have a dataset being refreshed with new cases as they come. A test has to be done to know if someone is positive, so there can be unforeseen influxes. Overall, the cases seem linear on a log scale. It should be noted that the graph seems to be tapering off at the end. This is a sign that the growth is slowing down!"
   ]
  },
  {
   "cell_type": "markdown",
   "metadata": {},
   "source": [
    "## Next we will look at a linear regression predictive forecast. \n",
    "This is done by training the data. The numpy random module helps with this. Another model I used was from sklearn - the linear model. Scipy was also used. We must used the linear data from before for the linear regression (log scale)."
   ]
  },
  {
   "cell_type": "code",
   "execution_count": 32,
   "metadata": {},
   "outputs": [
    {
     "name": "stdout",
     "output_type": "stream",
     "text": [
      "Coefficients:  [[684.18116987]]\n",
      "Intercept:  [-6868.36336077]\n"
     ]
    },
    {
     "data": {
      "image/png": "[encoded data removed]",
      "text/plain": [
       "<Figure size 432x288 with 1 Axes>"
      ]
     },
     "metadata": {
      "needs_background": "light"
     },
     "output_type": "display_data"
    }
   ],
   "source": [
    "# linear regression \n",
    "\n",
    "# train\n",
    "msk = np.random.rand(len(df)) < 0.8\n",
    "train = df[msk]\n",
    "test = df[~msk]\n",
    "\n",
    "plt.scatter(train.Date, train.PA_total_Positive,  color='blue')\n",
    "plt.xlabel(\"Dates\")\n",
    "plt.ylabel(\"PA Positive Cases\")\n",
    "plt.yscale('log')\n",
    "#plt.show()\n",
    "\n",
    "from sklearn import linear_model\n",
    "regr = linear_model.LinearRegression()\n",
    "train_x = np.asanyarray(train[['Date']])\n",
    "train_y = np.asanyarray(train[['PA_total_Positive']])\n",
    "regr.fit (train_x, train_y)\n",
    "# The coefficients\n",
    "print ('Coefficients: ', regr.coef_)\n",
    "print ('Intercept: ',regr.intercept_)\n"
   ]
  },
  {
   "cell_type": "code",
   "execution_count": 33,
   "metadata": {},
   "outputs": [
    {
     "name": "stdout",
     "output_type": "stream",
     "text": [
      "0.2121107841984122 33.3327047185127 33738.01425838461\n"
     ]
    },
    {
     "data": {
      "text/plain": [
       "Date\n",
       "39    25345\n",
       "40    26490\n",
       "41    27735\n",
       "42    29441\n",
       "43    31069\n",
       "Name: PA_total_Positive, dtype: int64"
      ]
     },
     "execution_count": 33,
     "metadata": {},
     "output_type": "execute_result"
    }
   ],
   "source": [
    "# logistic regression\n",
    "from scipy.optimize import curve_fit\n",
    "coviddata = df\n",
    "coviddata = pd.pivot_table(coviddata, values=['total_positive', 'PA_total_Positive'], index=['Date'], aggfunc=np.sum)\n",
    "\n",
    "# we will want x_data to be the number of days since first confirmed and the y_data to be the positive cases data. \n",
    "# This will be the data we use to fit a logistic curve.\n",
    "\n",
    "x_data = coviddata.index\n",
    "y_data = coviddata['PA_total_Positive']\n",
    "\n",
    "def log_curve(x, k, x_0, ymax):\n",
    "    return ymax / (1 + np.exp(-k*(x-x_0)))\n",
    "\n",
    "# Fit the curve\n",
    "popt, pcov = curve_fit(log_curve, x_data, y_data, bounds=([0,0,0],np.inf), maxfev=50000)\n",
    "estimated_k, estimated_x_0, ymax= popt\n",
    "\n",
    "\n",
    "# Plot the fitted curve\n",
    "k = estimated_k\n",
    "x_0 = estimated_x_0\n",
    "y_fitted = log_curve(range(0,160), k, x_0, ymax)\n",
    "print(k, x_0, ymax)\n",
    "#print(y_fitted)\n",
    "y_data.tail()\n"
   ]
  },
  {
   "cell_type": "code",
   "execution_count": 34,
   "metadata": {},
   "outputs": [
    {
     "data": {
      "text/plain": [
       "[<matplotlib.lines.Line2D at 0x122d03a50>]"
      ]
     },
     "execution_count": 34,
     "metadata": {},
     "output_type": "execute_result"
    },
    {
     "data": {
      "image/png": "[encoded data removed]",
      "text/plain": [
       "<Figure size 432x288 with 1 Axes>"
      ]
     },
     "metadata": {
      "needs_background": "light"
     },
     "output_type": "display_data"
    }
   ],
   "source": [
    "# Plot everything for illustration\n",
    "fig = plt.figure()\n",
    "ax = fig.add_subplot(111)\n",
    "ax.plot(range(0,160), y_fitted, '--', label='fitted')\n",
    "ax.plot(x_data, y_data, 'o', label='PA Positive Cases')"
   ]
  },
  {
   "cell_type": "code",
   "execution_count": 36,
   "metadata": {},
   "outputs": [
    {
     "name": "stdout",
     "output_type": "stream",
     "text": [
      "Coefficients:  [[33.80430963]]\n",
      "Intercept:  [-319.92054785]\n",
      "0.18932410670030386 34.37682317616112 1749.8549481350867\n"
     ]
    },
    {
     "data": {
      "text/plain": [
       "[<matplotlib.lines.Line2D at 0x122c612d0>]"
      ]
     },
     "execution_count": 36,
     "metadata": {},
     "output_type": "execute_result"
    },
    {
     "data": {
      "image/png": "[encoded data removed]",
      "text/plain": [
       "<Figure size 432x288 with 1 Axes>"
      ]
     },
     "metadata": {
      "needs_background": "light"
     },
     "output_type": "display_data"
    },
    {
     "data": {
      "image/png": "[encoded data removed]",
      "text/plain": [
       "<Figure size 432x288 with 1 Axes>"
      ]
     },
     "metadata": {
      "needs_background": "light"
     },
     "output_type": "display_data"
    }
   ],
   "source": [
    "# train\n",
    "msk = np.random.rand(len(df)) < 0.8\n",
    "train = df[msk]\n",
    "test = df[~msk]\n",
    "\n",
    "plt.scatter(train.Date[8:], train.total_positive[8:],  color='blue')\n",
    "plt.xlabel(\"Dates\")\n",
    "plt.ylabel(\"Local Positive Cases\")\n",
    "plt.yscale('log')\n",
    "#plt.show()\n",
    "\n",
    "from sklearn import linear_model\n",
    "regr = linear_model.LinearRegression()\n",
    "train_x = np.asanyarray(train[['Date']])\n",
    "train_y = np.asanyarray(train[['total_positive']])\n",
    "regr.fit (train_x, train_y)\n",
    "# The coefficients\n",
    "print ('Coefficients: ', regr.coef_)\n",
    "print ('Intercept: ',regr.intercept_)\n",
    "\n",
    "# we will want x_data to be the number of days since first confirmed and the y_data to be the confirmed data. This will be the data we use to fit a logistic curve\n",
    "x_data = coviddata.index\n",
    "y_data = coviddata['total_positive']\n",
    "\n",
    "def log_curve(x, k, x_0, ymax):\n",
    "    return ymax / (1 + np.exp(-k*(x-x_0)))\n",
    "\n",
    "# Fit the curve\n",
    "popt, pcov = curve_fit(log_curve, x_data, y_data, bounds=([0,0,0],np.inf), maxfev=50000)\n",
    "estimated_k, estimated_x_0, ymax= popt\n",
    "\n",
    "\n",
    "# Plot the fitted curve\n",
    "k = estimated_k\n",
    "x_0 = estimated_x_0\n",
    "y_fitted = log_curve(range(0,160), k, x_0, ymax)\n",
    "print(k, x_0, ymax)\n",
    "#print(y_fitted)\n",
    "y_data.tail()\n",
    "\n",
    "# Plot everything for illustration\n",
    "fig = plt.figure()\n",
    "ax = fig.add_subplot(111)\n",
    "ax.plot(range(0,160), y_fitted, '--', label='fitted')\n",
    "ax.plot(x_data, y_data, 'o', label='Local Positive Cases')"
   ]
  },
  {
   "cell_type": "markdown",
   "metadata": {},
   "source": [
    "The linear regressions look very similar. I want compare with the US!"
   ]
  },
  {
   "cell_type": "code",
   "execution_count": 50,
   "metadata": {},
   "outputs": [
    {
     "data": {
      "text/html": [
       "<div>\n",
       "<style scoped>\n",
       "    .dataframe tbody tr th:only-of-type {\n",
       "        vertical-align: middle;\n",
       "    }\n",
       "\n",
       "    .dataframe tbody tr th {\n",
       "        vertical-align: top;\n",
       "    }\n",
       "\n",
       "    .dataframe thead th {\n",
       "        text-align: right;\n",
       "    }\n",
       "</style>\n",
       "<table border=\"1\" class=\"dataframe\">\n",
       "  <thead>\n",
       "    <tr style=\"text-align: right;\">\n",
       "      <th></th>\n",
       "      <th>date</th>\n",
       "      <th>positive</th>\n",
       "    </tr>\n",
       "  </thead>\n",
       "  <tbody>\n",
       "    <tr>\n",
       "      <td>0</td>\n",
       "      <td>1.0</td>\n",
       "      <td>1.0</td>\n",
       "    </tr>\n",
       "    <tr>\n",
       "      <td>1</td>\n",
       "      <td>2.0</td>\n",
       "      <td>1.0</td>\n",
       "    </tr>\n",
       "    <tr>\n",
       "      <td>2</td>\n",
       "      <td>3.0</td>\n",
       "      <td>1.0</td>\n",
       "    </tr>\n",
       "    <tr>\n",
       "      <td>3</td>\n",
       "      <td>4.0</td>\n",
       "      <td>1.0</td>\n",
       "    </tr>\n",
       "    <tr>\n",
       "      <td>4</td>\n",
       "      <td>5.0</td>\n",
       "      <td>1.0</td>\n",
       "    </tr>\n",
       "  </tbody>\n",
       "</table>\n",
       "</div>"
      ],
      "text/plain": [
       "   date  positive\n",
       "0   1.0       1.0\n",
       "1   2.0       1.0\n",
       "2   3.0       1.0\n",
       "3   4.0       1.0\n",
       "4   5.0       1.0"
      ]
     },
     "execution_count": 50,
     "metadata": {},
     "output_type": "execute_result"
    }
   ],
   "source": [
    "us = pd.read_csv('/Users/juliettegudknecht/Downloads/uspositives.csv')\n",
    "us.head()"
   ]
  },
  {
   "cell_type": "markdown",
   "metadata": {},
   "source": [
    "This data starts from a different date. I looked at the data and the local data starts 3/6, which is the 43rd day of US data"
   ]
  },
  {
   "cell_type": "code",
   "execution_count": 51,
   "metadata": {},
   "outputs": [
    {
     "data": {
      "image/png": "[encoded data removed]",
      "text/plain": [
       "<Figure size 432x288 with 1 Axes>"
      ]
     },
     "metadata": {
      "needs_background": "light"
     },
     "output_type": "display_data"
    },
    {
     "data": {
      "image/png": "[encoded data removed]",
      "text/plain": [
       "<Figure size 432x288 with 1 Axes>"
      ]
     },
     "metadata": {
      "needs_background": "light"
     },
     "output_type": "display_data"
    }
   ],
   "source": [
    "plt.scatter(us.date, us.positive,  color='blue')\n",
    "plt.xlabel(\"Dates\")\n",
    "plt.ylabel(\"US Positive Cases\")\n",
    "plt.show()\n",
    "\n",
    "plt.scatter(us.date, us.positive,  color='blue')\n",
    "plt.xlabel(\"Dates\")\n",
    "plt.ylabel(\"US Positive Cases\")\n",
    "plt.yscale('log')\n",
    "plt.show()"
   ]
  },
  {
   "cell_type": "markdown",
   "metadata": {},
   "source": [
    "I am going to compare Growth Factor, Growth Ratio, Growth Rate, and 2nd derivative. These are all mathematical terms, the definitions can be found in the ppt."
   ]
  },
  {
   "cell_type": "code",
   "execution_count": 19,
   "metadata": {},
   "outputs": [
    {
     "data": {
      "image/png": "[encoded data removed]",
      "text/plain": [
       "<Figure size 432x288 with 1 Axes>"
      ]
     },
     "metadata": {
      "needs_background": "light"
     },
     "output_type": "display_data"
    },
    {
     "data": {
      "image/png": "[encoded data removed]",
      "text/plain": [
       "<Figure size 432x288 with 1 Axes>"
      ]
     },
     "metadata": {
      "needs_background": "light"
     },
     "output_type": "display_data"
    },
    {
     "data": {
      "image/png": "[encoded data removed]",
      "text/plain": [
       "<Figure size 432x288 with 1 Axes>"
      ]
     },
     "metadata": {
      "needs_background": "light"
     },
     "output_type": "display_data"
    },
    {
     "data": {
      "image/png": "[encoded data removed]",
      "text/plain": [
       "<Figure size 432x288 with 1 Axes>"
      ]
     },
     "metadata": {
      "needs_background": "light"
     },
     "output_type": "display_data"
    }
   ],
   "source": [
    "table = df\n",
    "table2 = pd.pivot_table(table, values=['PA_total_Positive','total_positive'], index=['Date'], aggfunc=np.sum)\n",
    "\n",
    "# Growth Factor\n",
    "w = 0.5\n",
    "table2['GrowthFactor'] = growth_factor(table2['total_positive'])\n",
    "table2['GrowthFactor'] = smoother(table2['GrowthFactor'],w,5)\n",
    "\n",
    "# 2nd Derivative\n",
    "table2['2nd_Derivative'] = np.gradient(np.gradient(table2['PA_total_Positive'])) #2nd derivative\n",
    "table2['2nd_Derivative'] = smoother(table2['2nd_Derivative'],w,7)\n",
    "\n",
    "\n",
    "#Plot confirmed[i]/confirmed[i-1], this is called the growth ratio\n",
    "table2['GrowthRatio'] = growth_ratio(table2['PA_total_Positive'])\n",
    "table2['GrowthRatio'] = smoother(table2['GrowthRatio'],w,5)\n",
    "    \n",
    "#Plot the growth rate, we will define this as k in the logistic function presented at the beginning of this notebook.\n",
    "table2['GrowthRate']=np.gradient(np.log(table2['PA_total_Positive']))\n",
    "table2['GrowthRate'] = smoother(table2['GrowthRate'],0.5,3)\n",
    "\n",
    "x_coordinates = [1, 100]\n",
    "y_coordinates = [1, 1]\n",
    "\n",
    "#plots\n",
    "table2['GrowthFactor'].plot(title='Growth Factor')\n",
    "plt.plot(x_coordinates, y_coordinates) \n",
    "plt.savefig('growthfactor.png')\n",
    "plt.show()\n",
    "\n",
    "table2['2nd_Derivative'].plot(title='2nd_Derivative')\n",
    "plt.savefig('secondderivative.png')\n",
    "plt.show()\n",
    "\n",
    "table2['GrowthRatio'].plot(title='Growth Ratio')\n",
    "plt.plot(x_coordinates, y_coordinates)\n",
    "plt.savefig('growthratio.png')\n",
    "plt.show()\n",
    "\n",
    "table2['GrowthRate'].plot(title='Growth Rate')\n",
    "plt.savefig('Growthrate.png')\n",
    "plt.show()"
   ]
  },
  {
   "cell_type": "markdown",
   "metadata": {},
   "source": [
    "## Takeaways:"
   ]
  },
  {
   "cell_type": "markdown",
   "metadata": {},
   "source": [
    "We should consider that there is a lot of statistical uncertainty in this prediction. \n",
    "This is almost certainly underestimating. \n",
    "It is too early to use this method to get a reasonable estimate. \n",
    "The number of positive undiagnosed cases in each country is likely to be significant. \n",
    "Most of US aren't testing enough, or weren’t at some point\n"
   ]
  },
  {
   "cell_type": "markdown",
   "metadata": {},
   "source": [
    "This model would suggest that around day 60 pennsylvania cases should slow down. Our data went up to day 43 (04/18), so day 60 would be may 5th, which closely aligns with the dates that were planned for lifting quarantine.\n",
    "The sad part is there are already more than 38k cases in PA. \n",
    "I believe the discrepancy is due to the reasons listed before, like some people with mild symptoms not being tested earlier so the growth rate was affected.\n",
    "\n",
    "Thanks for reading! -Juliette"
   ]
  },
  {
   "cell_type": "code",
   "execution_count": null,
   "metadata": {},
   "outputs": [],
   "source": []
  }
 ],
 "metadata": {
  "kernelspec": {
   "display_name": "Python 3",
   "language": "python",
   "name": "python3"
  },
  "language_info": {
   "codemirror_mode": {
    "name": "ipython",
    "version": 3
   },
   "file_extension": ".py",
   "mimetype": "text/x-python",
   "name": "python",
   "nbconvert_exporter": "python",
   "pygments_lexer": "ipython3",
   "version": "3.7.4"
  }
 },
 "nbformat": 4,
 "nbformat_minor": 2
}
