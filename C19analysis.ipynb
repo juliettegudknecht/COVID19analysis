{
 "cells": [
  {
   "cell_type": "code",
   "execution_count": 62,
   "metadata": {},
   "outputs": [],
   "source": [
    "# Linear Regression Analysis COVID-19\n",
    "\n",
    "import matplotlib.pyplot as plt\n",
    "import pandas as pd\n",
    "import pylab as pl\n",
    "import numpy as np\n",
    "import datetime as dt\n",
    "from sklearn.linear_model import LinearRegression\n",
    "%matplotlib inline"
   ]
  },
  {
   "cell_type": "code",
   "execution_count": 96,
   "metadata": {},
   "outputs": [
    {
     "data": {
      "text/html": [
       "<div>\n",
       "<style scoped>\n",
       "    .dataframe tbody tr th:only-of-type {\n",
       "        vertical-align: middle;\n",
       "    }\n",
       "\n",
       "    .dataframe tbody tr th {\n",
       "        vertical-align: top;\n",
       "    }\n",
       "\n",
       "    .dataframe thead th {\n",
       "        text-align: right;\n",
       "    }\n",
       "</style>\n",
       "<table border=\"1\" class=\"dataframe\">\n",
       "  <thead>\n",
       "    <tr style=\"text-align: right;\">\n",
       "      <th></th>\n",
       "      <th>Date</th>\n",
       "      <th>Testd_ordered</th>\n",
       "      <th>Positive</th>\n",
       "      <th>Negative</th>\n",
       "      <th>total_positive</th>\n",
       "      <th>total_negative</th>\n",
       "      <th>PA_total_Negative</th>\n",
       "      <th>PA_total_Positive</th>\n",
       "      <th>PA_new_tests</th>\n",
       "      <th>PA_New_positives</th>\n",
       "    </tr>\n",
       "  </thead>\n",
       "  <tbody>\n",
       "    <tr>\n",
       "      <td>0</td>\n",
       "      <td>0</td>\n",
       "      <td>1</td>\n",
       "      <td>0</td>\n",
       "      <td>1</td>\n",
       "      <td>0</td>\n",
       "      <td>1</td>\n",
       "      <td>0</td>\n",
       "      <td>2</td>\n",
       "      <td>0</td>\n",
       "      <td>2</td>\n",
       "    </tr>\n",
       "    <tr>\n",
       "      <td>1</td>\n",
       "      <td>1</td>\n",
       "      <td>1</td>\n",
       "      <td>0</td>\n",
       "      <td>1</td>\n",
       "      <td>0</td>\n",
       "      <td>2</td>\n",
       "      <td>0</td>\n",
       "      <td>4</td>\n",
       "      <td>2</td>\n",
       "      <td>2</td>\n",
       "    </tr>\n",
       "    <tr>\n",
       "      <td>2</td>\n",
       "      <td>2</td>\n",
       "      <td>0</td>\n",
       "      <td>0</td>\n",
       "      <td>0</td>\n",
       "      <td>0</td>\n",
       "      <td>2</td>\n",
       "      <td>0</td>\n",
       "      <td>6</td>\n",
       "      <td>2</td>\n",
       "      <td>2</td>\n",
       "    </tr>\n",
       "    <tr>\n",
       "      <td>3</td>\n",
       "      <td>3</td>\n",
       "      <td>0</td>\n",
       "      <td>0</td>\n",
       "      <td>0</td>\n",
       "      <td>0</td>\n",
       "      <td>2</td>\n",
       "      <td>0</td>\n",
       "      <td>10</td>\n",
       "      <td>4</td>\n",
       "      <td>4</td>\n",
       "    </tr>\n",
       "    <tr>\n",
       "      <td>4</td>\n",
       "      <td>4</td>\n",
       "      <td>0</td>\n",
       "      <td>0</td>\n",
       "      <td>0</td>\n",
       "      <td>0</td>\n",
       "      <td>2</td>\n",
       "      <td>0</td>\n",
       "      <td>12</td>\n",
       "      <td>2</td>\n",
       "      <td>2</td>\n",
       "    </tr>\n",
       "  </tbody>\n",
       "</table>\n",
       "</div>"
      ],
      "text/plain": [
       "   Date  Testd_ordered  Positive  Negative  total_positive  total_negative  \\\n",
       "0     0              1         0         1               0               1   \n",
       "1     1              1         0         1               0               2   \n",
       "2     2              0         0         0               0               2   \n",
       "3     3              0         0         0               0               2   \n",
       "4     4              0         0         0               0               2   \n",
       "\n",
       "   PA_total_Negative  PA_total_Positive  PA_new_tests  PA_New_positives  \n",
       "0                  0                  2             0                 2  \n",
       "1                  0                  4             2                 2  \n",
       "2                  0                  6             2                 2  \n",
       "3                  0                 10             4                 4  \n",
       "4                  0                 12             2                 2  "
      ]
     },
     "execution_count": 96,
     "metadata": {},
     "output_type": "execute_result"
    }
   ],
   "source": [
    "# import file\n",
    "file_name = '/Users/juliettegudknecht/Downloads/c19cases.csv'\n",
    "\n",
    "df = pd.read_csv(file_name)\n",
    "df.head()"
   ]
  },
  {
   "cell_type": "code",
   "execution_count": 97,
   "metadata": {},
   "outputs": [
    {
     "data": {
      "text/html": [
       "<div>\n",
       "<style scoped>\n",
       "    .dataframe tbody tr th:only-of-type {\n",
       "        vertical-align: middle;\n",
       "    }\n",
       "\n",
       "    .dataframe tbody tr th {\n",
       "        vertical-align: top;\n",
       "    }\n",
       "\n",
       "    .dataframe thead th {\n",
       "        text-align: right;\n",
       "    }\n",
       "</style>\n",
       "<table border=\"1\" class=\"dataframe\">\n",
       "  <thead>\n",
       "    <tr style=\"text-align: right;\">\n",
       "      <th></th>\n",
       "      <th>Date</th>\n",
       "      <th>Testd_ordered</th>\n",
       "      <th>Positive</th>\n",
       "      <th>Negative</th>\n",
       "      <th>total_positive</th>\n",
       "      <th>total_negative</th>\n",
       "      <th>PA_total_Negative</th>\n",
       "      <th>PA_total_Positive</th>\n",
       "      <th>PA_new_tests</th>\n",
       "      <th>PA_New_positives</th>\n",
       "    </tr>\n",
       "  </thead>\n",
       "  <tbody>\n",
       "    <tr>\n",
       "      <td>count</td>\n",
       "      <td>44.000000</td>\n",
       "      <td>44.000000</td>\n",
       "      <td>44.000000</td>\n",
       "      <td>44.000000</td>\n",
       "      <td>44.000000</td>\n",
       "      <td>44.000000</td>\n",
       "      <td>44.000000</td>\n",
       "      <td>44.000000</td>\n",
       "      <td>44.000000</td>\n",
       "      <td>44.000000</td>\n",
       "    </tr>\n",
       "    <tr>\n",
       "      <td>mean</td>\n",
       "      <td>21.500000</td>\n",
       "      <td>248.022727</td>\n",
       "      <td>32.704545</td>\n",
       "      <td>175.000000</td>\n",
       "      <td>397.136364</td>\n",
       "      <td>2674.613636</td>\n",
       "      <td>40170.863636</td>\n",
       "      <td>8112.568182</td>\n",
       "      <td>3499.159091</td>\n",
       "      <td>706.113636</td>\n",
       "    </tr>\n",
       "    <tr>\n",
       "      <td>std</td>\n",
       "      <td>12.845233</td>\n",
       "      <td>176.982260</td>\n",
       "      <td>33.367983</td>\n",
       "      <td>137.387925</td>\n",
       "      <td>480.259309</td>\n",
       "      <td>2613.419432</td>\n",
       "      <td>43216.118658</td>\n",
       "      <td>10181.595090</td>\n",
       "      <td>2889.395462</td>\n",
       "      <td>682.446598</td>\n",
       "    </tr>\n",
       "    <tr>\n",
       "      <td>min</td>\n",
       "      <td>0.000000</td>\n",
       "      <td>0.000000</td>\n",
       "      <td>0.000000</td>\n",
       "      <td>0.000000</td>\n",
       "      <td>0.000000</td>\n",
       "      <td>1.000000</td>\n",
       "      <td>0.000000</td>\n",
       "      <td>2.000000</td>\n",
       "      <td>0.000000</td>\n",
       "      <td>2.000000</td>\n",
       "    </tr>\n",
       "    <tr>\n",
       "      <td>25%</td>\n",
       "      <td>10.750000</td>\n",
       "      <td>12.250000</td>\n",
       "      <td>1.750000</td>\n",
       "      <td>11.750000</td>\n",
       "      <td>4.000000</td>\n",
       "      <td>30.500000</td>\n",
       "      <td>826.750000</td>\n",
       "      <td>91.000000</td>\n",
       "      <td>316.000000</td>\n",
       "      <td>19.750000</td>\n",
       "    </tr>\n",
       "    <tr>\n",
       "      <td>50%</td>\n",
       "      <td>21.500000</td>\n",
       "      <td>312.500000</td>\n",
       "      <td>19.000000</td>\n",
       "      <td>177.000000</td>\n",
       "      <td>164.500000</td>\n",
       "      <td>2026.500000</td>\n",
       "      <td>23135.000000</td>\n",
       "      <td>2484.500000</td>\n",
       "      <td>3919.500000</td>\n",
       "      <td>546.500000</td>\n",
       "    </tr>\n",
       "    <tr>\n",
       "      <td>75%</td>\n",
       "      <td>32.250000</td>\n",
       "      <td>405.000000</td>\n",
       "      <td>59.750000</td>\n",
       "      <td>290.750000</td>\n",
       "      <td>704.000000</td>\n",
       "      <td>4872.000000</td>\n",
       "      <td>78114.000000</td>\n",
       "      <td>14979.000000</td>\n",
       "      <td>5948.000000</td>\n",
       "      <td>1375.500000</td>\n",
       "    </tr>\n",
       "    <tr>\n",
       "      <td>max</td>\n",
       "      <td>43.000000</td>\n",
       "      <td>495.000000</td>\n",
       "      <td>111.000000</td>\n",
       "      <td>398.000000</td>\n",
       "      <td>1439.000000</td>\n",
       "      <td>7700.000000</td>\n",
       "      <td>122896.000000</td>\n",
       "      <td>31069.000000</td>\n",
       "      <td>7915.000000</td>\n",
       "      <td>1989.000000</td>\n",
       "    </tr>\n",
       "  </tbody>\n",
       "</table>\n",
       "</div>"
      ],
      "text/plain": [
       "            Date  Testd_ordered    Positive    Negative  total_positive  \\\n",
       "count  44.000000      44.000000   44.000000   44.000000       44.000000   \n",
       "mean   21.500000     248.022727   32.704545  175.000000      397.136364   \n",
       "std    12.845233     176.982260   33.367983  137.387925      480.259309   \n",
       "min     0.000000       0.000000    0.000000    0.000000        0.000000   \n",
       "25%    10.750000      12.250000    1.750000   11.750000        4.000000   \n",
       "50%    21.500000     312.500000   19.000000  177.000000      164.500000   \n",
       "75%    32.250000     405.000000   59.750000  290.750000      704.000000   \n",
       "max    43.000000     495.000000  111.000000  398.000000     1439.000000   \n",
       "\n",
       "       total_negative  PA_total_Negative  PA_total_Positive  PA_new_tests  \\\n",
       "count       44.000000          44.000000          44.000000     44.000000   \n",
       "mean      2674.613636       40170.863636        8112.568182   3499.159091   \n",
       "std       2613.419432       43216.118658       10181.595090   2889.395462   \n",
       "min          1.000000           0.000000           2.000000      0.000000   \n",
       "25%         30.500000         826.750000          91.000000    316.000000   \n",
       "50%       2026.500000       23135.000000        2484.500000   3919.500000   \n",
       "75%       4872.000000       78114.000000       14979.000000   5948.000000   \n",
       "max       7700.000000      122896.000000       31069.000000   7915.000000   \n",
       "\n",
       "       PA_New_positives  \n",
       "count         44.000000  \n",
       "mean         706.113636  \n",
       "std          682.446598  \n",
       "min            2.000000  \n",
       "25%           19.750000  \n",
       "50%          546.500000  \n",
       "75%         1375.500000  \n",
       "max         1989.000000  "
      ]
     },
     "execution_count": 97,
     "metadata": {},
     "output_type": "execute_result"
    }
   ],
   "source": [
    "df.describe()"
   ]
  },
  {
   "cell_type": "code",
   "execution_count": 98,
   "metadata": {},
   "outputs": [],
   "source": [
    "exp = df[['Date', 'Positive','PA_New_positives', 'total_positive', 'PA_total_Positive']]"
   ]
  },
  {
   "cell_type": "code",
   "execution_count": 106,
   "metadata": {},
   "outputs": [
    {
     "data": {
      "image/png": "[encoded data removed]",
      "text/plain": [
       "<Figure size 432x288 with 1 Axes>"
      ]
     },
     "metadata": {
      "needs_background": "light"
     },
     "output_type": "display_data"
    }
   ],
   "source": [
    "plt.scatter(exp.Date, exp.total_positive,  color='blue')\n",
    "plt.xlabel(\"Dates\")\n",
    "plt.ylabel(\"Local Positive Cases\")\n",
    "plt.yscale('log')\n",
    "plt.show()"
   ]
  },
  {
   "cell_type": "code",
   "execution_count": 107,
   "metadata": {},
   "outputs": [
    {
     "data": {
      "image/png": "[encoded data removed]",
      "text/plain": [
       "<Figure size 432x288 with 1 Axes>"
      ]
     },
     "metadata": {
      "needs_background": "light"
     },
     "output_type": "display_data"
    }
   ],
   "source": [
    "plt.scatter(exp.Date, exp.PA_total_Positive,  color='blue')\n",
    "plt.xlabel(\"Dates\")\n",
    "plt.ylabel(\"PA Positive Cases\")\n",
    "plt.yscale('log')\n",
    "plt.show()"
   ]
  },
  {
   "cell_type": "code",
   "execution_count": 108,
   "metadata": {},
   "outputs": [
    {
     "data": {
      "image/png": "[encoded data removed]",
      "text/plain": [
       "<Figure size 432x288 with 1 Axes>"
      ]
     },
     "metadata": {
      "needs_background": "light"
     },
     "output_type": "display_data"
    },
    {
     "data": {
      "image/png": "[encoded data removed]",
      "text/plain": [
       "<Figure size 432x288 with 1 Axes>"
      ]
     },
     "metadata": {
      "needs_background": "light"
     },
     "output_type": "display_data"
    }
   ],
   "source": [
    "plt.scatter(exp.Date, exp.total_positive,  color='blue')\n",
    "plt.xlabel(\"Dates\")\n",
    "plt.ylabel(\"Local Positive Cases\")\n",
    "plt.show()\n",
    "\n",
    "plt.scatter(exp.Date, exp.PA_total_Positive,  color='blue')\n",
    "plt.xlabel(\"Dates\")\n",
    "plt.ylabel(\"PA Positive Cases\")\n",
    "plt.show()"
   ]
  },
  {
   "cell_type": "code",
   "execution_count": 112,
   "metadata": {},
   "outputs": [
    {
     "name": "stdout",
     "output_type": "stream",
     "text": [
      "Coefficients:  [[2.51525202]]\n",
      "Intercept:  [-21.06096853]\n"
     ]
    },
    {
     "data": {
      "image/png": "[encoded data removed]",
      "text/plain": [
       "<Figure size 432x288 with 1 Axes>"
      ]
     },
     "metadata": {
      "needs_background": "light"
     },
     "output_type": "display_data"
    }
   ],
   "source": [
    "# linear regression \n",
    "\n",
    "# train\n",
    "msk = np.random.rand(len(df)) < 0.8\n",
    "train = exp[msk]\n",
    "test = exp[~msk]\n",
    "\n",
    "plt.scatter(train.Date, train.PA_total_Positive,  color='blue')\n",
    "plt.xlabel(\"Dates\")\n",
    "plt.ylabel(\"Local Positive Cases\")\n",
    "plt.yscale('log')\n",
    "#plt.show()\n",
    "\n",
    "from sklearn import linear_model\n",
    "regr = linear_model.LinearRegression()\n",
    "train_x = np.asanyarray(train[['Date']])\n",
    "train_y = np.asanyarray(train[['Positive']])\n",
    "regr.fit (train_x, train_y)\n",
    "# The coefficients\n",
    "print ('Coefficients: ', regr.coef_)\n",
    "print ('Intercept: ',regr.intercept_)\n"
   ]
  },
  {
   "cell_type": "code",
   "execution_count": 116,
   "metadata": {},
   "outputs": [],
   "source": [
    "def smoother(inputdata,w,imax):\n",
    "    data = 1.0*inputdata\n",
    "    data = data.replace(np.nan,1)\n",
    "    data = data.replace(np.inf,1)\n",
    "    #print(data)\n",
    "    smoothed = 1.0*data\n",
    "    normalization = 1\n",
    "    for i in range(-imax,imax+1):\n",
    "        if i==0:\n",
    "            continue\n",
    "        smoothed += (w**abs(i))*data.shift(i,axis=0)\n",
    "        normalization += w**abs(i)\n",
    "    smoothed /= normalization\n",
    "    return smoothed\n",
    "# function to compute growth factor\n",
    "def growth_factor(confirmed):\n",
    "    confirmed_iminus1 = confirmed.shift(1, axis=0)\n",
    "    confirmed_iminus2 = confirmed.shift(2, axis=0)\n",
    "    return (confirmed-confirmed_iminus1)/(confirmed_iminus1-confirmed_iminus2)\n",
    "#function to compute growth ratio\n",
    "def growth_ratio(confirmed):\n",
    "    confirmed_iminus1 = confirmed.shift(1, axis=0)\n",
    "    return (confirmed/confirmed_iminus1)\n",
    "\n",
    "# We don't need a function for growth rate since we can use the np.gradient() function."
   ]
  },
  {
   "cell_type": "code",
   "execution_count": 122,
   "metadata": {},
   "outputs": [
    {
     "data": {
      "image/png": "[encoded data removed]",
      "text/plain": [
       "<Figure size 432x288 with 1 Axes>"
      ]
     },
     "metadata": {
      "needs_background": "light"
     },
     "output_type": "display_data"
    },
    {
     "data": {
      "image/png": "[encoded data removed]",
      "text/plain": [
       "<Figure size 432x288 with 1 Axes>"
      ]
     },
     "metadata": {
      "needs_background": "light"
     },
     "output_type": "display_data"
    },
    {
     "data": {
      "image/png": "[encoded data removed]",
      "text/plain": [
       "<Figure size 432x288 with 1 Axes>"
      ]
     },
     "metadata": {
      "needs_background": "light"
     },
     "output_type": "display_data"
    },
    {
     "data": {
      "image/png": "[encoded data removed]",
      "text/plain": [
       "<Figure size 432x288 with 1 Axes>"
      ]
     },
     "metadata": {
      "needs_background": "light"
     },
     "output_type": "display_data"
    }
   ],
   "source": [
    "table = exp\n",
    "table2 = pd.pivot_table(table, values=['PA_total_Positive'], index=['Date'], aggfunc=np.sum)\n",
    "\n",
    "# Growth Factor\n",
    "w = 0.5\n",
    "table2['GrowthFactor'] = growth_factor(table2['PA_total_Positive'])\n",
    "table2['GrowthFactor'] = smoother(table2['GrowthFactor'],w,5)\n",
    "\n",
    "# 2nd Derivative\n",
    "table2['2nd_Derivative'] = np.gradient(np.gradient(table2['PA_total_Positive'])) #2nd derivative\n",
    "table2['2nd_Derivative'] = smoother(table2['2nd_Derivative'],w,7)\n",
    "\n",
    "\n",
    "#Plot confirmed[i]/confirmed[i-1], this is called the growth ratio\n",
    "table2['GrowthRatio'] = growth_ratio(table2['PA_total_Positive'])\n",
    "table2['GrowthRatio'] = smoother(table2['GrowthRatio'],w,5)\n",
    "    \n",
    "#Plot the growth rate, we will define this as k in the logistic function presented at the beginning of this notebook.\n",
    "table2['GrowthRate']=np.gradient(np.log(table2['PA_total_Positive']))\n",
    "table2['GrowthRate'] = smoother(table2['GrowthRate'],0.5,3)\n",
    "\n",
    "x_coordinates = [1, 100]\n",
    "y_coordinates = [1, 1]\n",
    "\n",
    "#plots\n",
    "table2['GrowthFactor'].plot(title='Growth Factor')\n",
    "plt.plot(x_coordinates, y_coordinates) \n",
    "plt.savefig('growthfactor.png')\n",
    "plt.show()\n",
    "\n",
    "table2['2nd_Derivative'].plot(title='2nd_Derivative')\n",
    "plt.savefig('secondderivative.png')\n",
    "plt.show()\n",
    "\n",
    "table2['GrowthRatio'].plot(title='Growth Ratio')\n",
    "plt.plot(x_coordinates, y_coordinates)\n",
    "plt.savefig('growthratio.png')\n",
    "plt.show()\n",
    "\n",
    "table2['GrowthRate'].plot(title='Growth Rate')\n",
    "plt.savefig('Growthrate.png')\n",
    "plt.show()"
   ]
  },
  {
   "cell_type": "code",
   "execution_count": 126,
   "metadata": {},
   "outputs": [
    {
     "name": "stdout",
     "output_type": "stream",
     "text": [
      "0.2121107841984122 33.3327047185127 33738.01425838461\n"
     ]
    },
    {
     "data": {
      "text/plain": [
       "Date\n",
       "39    25345\n",
       "40    26490\n",
       "41    27735\n",
       "42    29441\n",
       "43    31069\n",
       "Name: PA_total_Positive, dtype: int64"
      ]
     },
     "execution_count": 126,
     "metadata": {},
     "output_type": "execute_result"
    }
   ],
   "source": [
    "# logistic regression\n",
    "from scipy.optimize import curve_fit\n",
    "coviddata = exp\n",
    "coviddata = pd.pivot_table(coviddata, values=['total_positive', 'PA_total_Positive'], index=['Date'], aggfunc=np.sum)\n",
    "\n",
    "# we will want x_data to be the number of days since first confirmed and the y_data to be the confirmed data. This will be the data we use to fit a logistic curve\n",
    "x_data = coviddata.index\n",
    "y_data = coviddata['PA_total_Positive']\n",
    "\n",
    "def log_curve(x, k, x_0, ymax):\n",
    "    return ymax / (1 + np.exp(-k*(x-x_0)))\n",
    "\n",
    "# Fit the curve\n",
    "popt, pcov = curve_fit(log_curve, x_data, y_data, bounds=([0,0,0],np.inf), maxfev=50000)\n",
    "estimated_k, estimated_x_0, ymax= popt\n",
    "\n",
    "\n",
    "# Plot the fitted curve\n",
    "k = estimated_k\n",
    "x_0 = estimated_x_0\n",
    "y_fitted = log_curve(range(0,160), k, x_0, ymax)\n",
    "print(k, x_0, ymax)\n",
    "#print(y_fitted)\n",
    "y_data.tail()\n"
   ]
  },
  {
   "cell_type": "code",
   "execution_count": 128,
   "metadata": {},
   "outputs": [
    {
     "data": {
      "text/plain": [
       "[<matplotlib.lines.Line2D at 0x119467910>]"
      ]
     },
     "execution_count": 128,
     "metadata": {},
     "output_type": "execute_result"
    },
    {
     "data": {
      "image/png": "[encoded data removed]",
      "text/plain": [
       "<Figure size 432x288 with 1 Axes>"
      ]
     },
     "metadata": {
      "needs_background": "light"
     },
     "output_type": "display_data"
    }
   ],
   "source": [
    "# Plot everything for illustration\n",
    "fig = plt.figure()\n",
    "ax = fig.add_subplot(111)\n",
    "ax.plot(range(0,160), y_fitted, '--', label='fitted')\n",
    "ax.plot(x_data, y_data, 'o', label='PA Positive Cases')"
   ]
  },
  {
   "cell_type": "code",
   "execution_count": null,
   "metadata": {},
   "outputs": [],
   "source": []
  }
 ],
 "metadata": {
  "kernelspec": {
   "display_name": "Python 3",
   "language": "python",
   "name": "python3"
  },
  "language_info": {
   "codemirror_mode": {
    "name": "ipython",
    "version": 3
   },
   "file_extension": ".py",
   "mimetype": "text/x-python",
   "name": "python",
   "nbconvert_exporter": "python",
   "pygments_lexer": "ipython3",
   "version": "3.7.4"
  }
 },
 "nbformat": 4,
 "nbformat_minor": 2
}
